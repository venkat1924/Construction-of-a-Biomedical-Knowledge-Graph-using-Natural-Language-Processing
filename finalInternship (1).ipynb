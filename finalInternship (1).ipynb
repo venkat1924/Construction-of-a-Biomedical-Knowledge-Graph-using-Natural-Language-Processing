{
  "cells": [
    {
      "cell_type": "code",
      "execution_count": null,
      "metadata": {
        "colab": {
          "base_uri": "https://localhost:8080/"
        },
        "id": "-uuGuvfarzbf",
        "outputId": "6ff1c38c-4cc6-4916-9b8c-b3a16f0ab65c"
      },
      "outputs": [
        {
          "output_type": "stream",
          "name": "stdout",
          "text": [
            "Reading package lists... Done\n",
            "Building dependency tree... Done\n",
            "Reading state information... Done\n",
            "tesseract-ocr is already the newest version (4.1.1-2.1build1).\n",
            "0 upgraded, 0 newly installed, 0 to remove and 15 not upgraded.\n",
            "Reading package lists... Done\n",
            "Building dependency tree... Done\n",
            "Reading state information... Done\n",
            "poppler-utils is already the newest version (22.02.0-2ubuntu0.3).\n",
            "0 upgraded, 0 newly installed, 0 to remove and 15 not upgraded.\n",
            "Requirement already satisfied: pytesseract in /usr/local/lib/python3.10/dist-packages (0.3.10)\n",
            "Requirement already satisfied: pdf2image in /usr/local/lib/python3.10/dist-packages (1.16.3)\n",
            "Requirement already satisfied: neo4j in /usr/local/lib/python3.10/dist-packages (5.12.0)\n",
            "Requirement already satisfied: packaging>=21.3 in /usr/local/lib/python3.10/dist-packages (from pytesseract) (23.2)\n",
            "Requirement already satisfied: Pillow>=8.0.0 in /usr/local/lib/python3.10/dist-packages (from pytesseract) (9.4.0)\n",
            "Requirement already satisfied: pytz in /usr/local/lib/python3.10/dist-packages (from neo4j) (2023.3.post1)\n"
          ]
        }
      ],
      "source": [
        "!sudo apt install tesseract-ocr\n",
        "!sudo apt-get install poppler-utils\n",
        "!pip install pytesseract pdf2image neo4j"
      ]
    },
    {
      "cell_type": "code",
      "execution_count": null,
      "metadata": {
        "colab": {
          "base_uri": "https://localhost:8080/"
        },
        "id": "PZZO5NfaAcEn",
        "outputId": "992db22e-1120-4d27-88e8-2833b62ab01c"
      },
      "outputs": [
        {
          "output_type": "stream",
          "name": "stdout",
          "text": [
            "Requirement already satisfied: pdf2image in /usr/local/lib/python3.10/dist-packages (1.16.3)\n",
            "Requirement already satisfied: pillow in /usr/local/lib/python3.10/dist-packages (from pdf2image) (9.4.0)\n"
          ]
        }
      ],
      "source": [
        "pip install pdf2image"
      ]
    },
    {
      "cell_type": "code",
      "execution_count": null,
      "metadata": {
        "colab": {
          "base_uri": "https://localhost:8080/"
        },
        "id": "6yiTgf_FAe34",
        "outputId": "23c78d29-6007-4566-832a-682582957a78"
      },
      "outputs": [
        {
          "output_type": "stream",
          "name": "stdout",
          "text": [
            "Requirement already satisfied: pytesseract in /usr/local/lib/python3.10/dist-packages (0.3.10)\n",
            "Requirement already satisfied: packaging>=21.3 in /usr/local/lib/python3.10/dist-packages (from pytesseract) (23.2)\n",
            "Requirement already satisfied: Pillow>=8.0.0 in /usr/local/lib/python3.10/dist-packages (from pytesseract) (9.4.0)\n"
          ]
        }
      ],
      "source": [
        "pip install pytesseract"
      ]
    },
    {
      "cell_type": "code",
      "execution_count": null,
      "metadata": {
        "id": "KjlUTGhNsYa_"
      },
      "outputs": [],
      "source": [
        "import requests\n",
        "import pdf2image\n",
        "import pytesseract\n",
        "\n",
        "pdf = requests.get('https://arxiv.org/pdf/2110.03526.pdf')\n",
        "doc = pdf2image.convert_from_bytes(pdf.content)\n",
        "\n",
        "# Get the article text\n",
        "article = []\n",
        "for page_number, page_data in enumerate(doc):\n",
        "    txt = pytesseract.image_to_string(page_data).encode(\"utf-8\")\n",
        "    # Sixth page are only references\n",
        "    if page_number < 6:\n",
        "      article.append(txt.decode(\"utf-8\"))\n",
        "article_txt = \" \".join(article)\n"
      ]
    },
    {
      "cell_type": "markdown",
      "metadata": {
        "id": "unUt1x0_nqJj"
      },
      "source": [
        "# Text preprocessing"
      ]
    },
    {
      "cell_type": "code",
      "execution_count": null,
      "metadata": {
        "colab": {
          "base_uri": "https://localhost:8080/"
        },
        "id": "mdDKtiF4GLrR",
        "outputId": "44166253-6c20-4568-8441-edef3d342ccb"
      },
      "outputs": [
        {
          "output_type": "stream",
          "name": "stderr",
          "text": [
            "[nltk_data] Downloading package punkt to /root/nltk_data...\n",
            "[nltk_data]   Unzipping tokenizers/punkt.zip.\n",
            "[nltk_data] Downloading package stopwords to /root/nltk_data...\n",
            "[nltk_data]   Unzipping corpora/stopwords.zip.\n",
            "[nltk_data] Downloading package wordnet to /root/nltk_data...\n"
          ]
        }
      ],
      "source": [
        "import nltk\n",
        "nltk.download('punkt')\n",
        "nltk.download('stopwords')\n",
        "nltk.download('wordnet')\n",
        "\n",
        "def clean_text(text):\n",
        "  \"\"\"Remove section titles and figure descriptions from text\"\"\"\n",
        "  clean = \"\\n\".join([row for row in text.split(\"\\n\") if (len(row.split(\" \"))) > 3 and not (row.startswith(\"(a)\"))\n",
        "                    and not row.startswith(\"Figure\")])\n",
        "  return clean\n",
        "\n",
        "text = article_txt.split(\"INTRODUCTION\")[1]\n",
        "ctext = clean_text(text)\n",
        "sentences = nltk.tokenize.sent_tokenize(ctext)"
      ]
    },
    {
      "cell_type": "code",
      "execution_count": null,
      "metadata": {
        "colab": {
          "base_uri": "https://localhost:8080/"
        },
        "id": "5BISRl1SsjAg",
        "outputId": "31695783-f62f-4199-b8b2-6e8d6c22d68e"
      },
      "outputs": [
        {
          "output_type": "stream",
          "name": "stdout",
          "text": [
            "Collecting retrying\n",
            "  Downloading retrying-1.3.4-py3-none-any.whl (11 kB)\n",
            "Requirement already satisfied: six>=1.7.0 in /usr/local/lib/python3.10/dist-packages (from retrying) (1.16.0)\n",
            "Installing collected packages: retrying\n",
            "Successfully installed retrying-1.3.4\n"
          ]
        }
      ],
      "source": [
        "pip install retrying"
      ]
    },
    {
      "cell_type": "code",
      "execution_count": null,
      "metadata": {
        "colab": {
          "base_uri": "https://localhost:8080/",
          "height": 520
        },
        "id": "JBdjSIIkK30M",
        "outputId": "f3f8beb8-8104-4247-ced7-896c11a35c1a"
      },
      "outputs": [
        {
          "output_type": "stream",
          "name": "stdout",
          "text": [
            "Error occurred: HTTPConnectionPool(host='bern2.korea.ac.kr', port=80): Read timed out. (read timeout=10)\n",
            "Error occurred: HTTPConnectionPool(host='bern2.korea.ac.kr', port=80): Read timed out. (read timeout=10)\n",
            "Error occurred: HTTPConnectionPool(host='bern2.korea.ac.kr', port=80): Read timed out. (read timeout=10)\n",
            "Error occurred: HTTPConnectionPool(host='bern2.korea.ac.kr', port=80): Read timed out. (read timeout=10)\n",
            "Error occurred: HTTPConnectionPool(host='bern2.korea.ac.kr', port=80): Read timed out. (read timeout=10)\n"
          ]
        },
        {
          "output_type": "error",
          "ename": "KeyboardInterrupt",
          "evalue": "ignored",
          "traceback": [
            "\u001b[0;31m---------------------------------------------------------------------------\u001b[0m",
            "\u001b[0;31mKeyboardInterrupt\u001b[0m                         Traceback (most recent call last)",
            "\u001b[0;32m<ipython-input-14-36445a85a76c>\u001b[0m in \u001b[0;36m<cell line: 19>\u001b[0;34m()\u001b[0m\n\u001b[1;32m     18\u001b[0m \u001b[0;31m# The last sentence is invalid\u001b[0m\u001b[0;34m\u001b[0m\u001b[0;34m\u001b[0m\u001b[0m\n\u001b[1;32m     19\u001b[0m \u001b[0;32mfor\u001b[0m \u001b[0ms\u001b[0m \u001b[0;32min\u001b[0m \u001b[0msentences\u001b[0m\u001b[0;34m[\u001b[0m\u001b[0;34m:\u001b[0m\u001b[0;34m-\u001b[0m\u001b[0;36m1\u001b[0m\u001b[0;34m]\u001b[0m\u001b[0;34m:\u001b[0m\u001b[0;34m\u001b[0m\u001b[0;34m\u001b[0m\u001b[0m\n\u001b[0;32m---> 20\u001b[0;31m     \u001b[0mentity_list\u001b[0m\u001b[0;34m.\u001b[0m\u001b[0mappend\u001b[0m\u001b[0;34m(\u001b[0m\u001b[0mquery_raw\u001b[0m\u001b[0;34m(\u001b[0m\u001b[0ms\u001b[0m\u001b[0;34m)\u001b[0m\u001b[0;34m)\u001b[0m\u001b[0;34m\u001b[0m\u001b[0;34m\u001b[0m\u001b[0m\n\u001b[0m\u001b[1;32m     21\u001b[0m \u001b[0;34m\u001b[0m\u001b[0m\n\u001b[1;32m     22\u001b[0m \u001b[0mparsed_entities\u001b[0m \u001b[0;34m=\u001b[0m \u001b[0;34m[\u001b[0m\u001b[0;34m]\u001b[0m\u001b[0;34m\u001b[0m\u001b[0;34m\u001b[0m\u001b[0m\n",
            "\u001b[0;32m/usr/local/lib/python3.10/dist-packages/retrying.py\u001b[0m in \u001b[0;36mwrapped_f\u001b[0;34m(*args, **kw)\u001b[0m\n\u001b[1;32m     54\u001b[0m             \u001b[0;34m@\u001b[0m\u001b[0msix\u001b[0m\u001b[0;34m.\u001b[0m\u001b[0mwraps\u001b[0m\u001b[0;34m(\u001b[0m\u001b[0mf\u001b[0m\u001b[0;34m)\u001b[0m\u001b[0;34m\u001b[0m\u001b[0;34m\u001b[0m\u001b[0m\n\u001b[1;32m     55\u001b[0m             \u001b[0;32mdef\u001b[0m \u001b[0mwrapped_f\u001b[0m\u001b[0;34m(\u001b[0m\u001b[0;34m*\u001b[0m\u001b[0margs\u001b[0m\u001b[0;34m,\u001b[0m \u001b[0;34m**\u001b[0m\u001b[0mkw\u001b[0m\u001b[0;34m)\u001b[0m\u001b[0;34m:\u001b[0m\u001b[0;34m\u001b[0m\u001b[0;34m\u001b[0m\u001b[0m\n\u001b[0;32m---> 56\u001b[0;31m                 \u001b[0;32mreturn\u001b[0m \u001b[0mRetrying\u001b[0m\u001b[0;34m(\u001b[0m\u001b[0;34m*\u001b[0m\u001b[0mdargs\u001b[0m\u001b[0;34m,\u001b[0m \u001b[0;34m**\u001b[0m\u001b[0mdkw\u001b[0m\u001b[0;34m)\u001b[0m\u001b[0;34m.\u001b[0m\u001b[0mcall\u001b[0m\u001b[0;34m(\u001b[0m\u001b[0mf\u001b[0m\u001b[0;34m,\u001b[0m \u001b[0;34m*\u001b[0m\u001b[0margs\u001b[0m\u001b[0;34m,\u001b[0m \u001b[0;34m**\u001b[0m\u001b[0mkw\u001b[0m\u001b[0;34m)\u001b[0m\u001b[0;34m\u001b[0m\u001b[0;34m\u001b[0m\u001b[0m\n\u001b[0m\u001b[1;32m     57\u001b[0m \u001b[0;34m\u001b[0m\u001b[0m\n\u001b[1;32m     58\u001b[0m             \u001b[0;32mreturn\u001b[0m \u001b[0mwrapped_f\u001b[0m\u001b[0;34m\u001b[0m\u001b[0;34m\u001b[0m\u001b[0m\n",
            "\u001b[0;32m/usr/local/lib/python3.10/dist-packages/retrying.py\u001b[0m in \u001b[0;36mcall\u001b[0;34m(self, fn, *args, **kwargs)\u001b[0m\n\u001b[1;32m    272\u001b[0m                     \u001b[0mjitter\u001b[0m \u001b[0;34m=\u001b[0m \u001b[0mrandom\u001b[0m\u001b[0;34m.\u001b[0m\u001b[0mrandom\u001b[0m\u001b[0;34m(\u001b[0m\u001b[0;34m)\u001b[0m \u001b[0;34m*\u001b[0m \u001b[0mself\u001b[0m\u001b[0;34m.\u001b[0m\u001b[0m_wait_jitter_max\u001b[0m\u001b[0;34m\u001b[0m\u001b[0;34m\u001b[0m\u001b[0m\n\u001b[1;32m    273\u001b[0m                     \u001b[0msleep\u001b[0m \u001b[0;34m=\u001b[0m \u001b[0msleep\u001b[0m \u001b[0;34m+\u001b[0m \u001b[0mmax\u001b[0m\u001b[0;34m(\u001b[0m\u001b[0;36m0\u001b[0m\u001b[0;34m,\u001b[0m \u001b[0mjitter\u001b[0m\u001b[0;34m)\u001b[0m\u001b[0;34m\u001b[0m\u001b[0;34m\u001b[0m\u001b[0m\n\u001b[0;32m--> 274\u001b[0;31m                 \u001b[0mtime\u001b[0m\u001b[0;34m.\u001b[0m\u001b[0msleep\u001b[0m\u001b[0;34m(\u001b[0m\u001b[0msleep\u001b[0m \u001b[0;34m/\u001b[0m \u001b[0;36m1000.0\u001b[0m\u001b[0;34m)\u001b[0m\u001b[0;34m\u001b[0m\u001b[0;34m\u001b[0m\u001b[0m\n\u001b[0m\u001b[1;32m    275\u001b[0m \u001b[0;34m\u001b[0m\u001b[0m\n\u001b[1;32m    276\u001b[0m             \u001b[0mattempt_number\u001b[0m \u001b[0;34m+=\u001b[0m \u001b[0;36m1\u001b[0m\u001b[0;34m\u001b[0m\u001b[0;34m\u001b[0m\u001b[0m\n",
            "\u001b[0;31mKeyboardInterrupt\u001b[0m: "
          ]
        }
      ],
      "source": [
        "import hashlib\n",
        "import requests\n",
        "from retrying import retry  # Import retry from the retrying library\n",
        "\n",
        "# Decorator for retrying the query_raw function\n",
        "@retry(wait_exponential_multiplier=1000, wait_exponential_max=10000, stop_max_attempt_number=5)\n",
        "def query_raw(text, url=\"http://bern2.korea.ac.kr/plain\", timeout=10):\n",
        "    try:\n",
        "        response = requests.post(url, json={'text': text}, timeout=timeout)\n",
        "        response.raise_for_status()\n",
        "        return response.json()\n",
        "    except requests.exceptions.RequestException as e:\n",
        "        print(f\"Error occurred: {e}\")\n",
        "        return None\n",
        "\n",
        "# Update the code with the modified query_raw function\n",
        "entity_list = []\n",
        "# The last sentence is invalid\n",
        "for s in sentences[:-1]:\n",
        "    entity_list.append(query_raw(s))\n",
        "\n",
        "parsed_entities = []\n",
        "for entities in entity_list:\n",
        "    e = []\n",
        "    # If there are no denotations in the text\n",
        "    if not entities.get('denotations'):\n",
        "        parsed_entities.append({'text': entities['text'], 'text_sha256': hashlib.sha256(entities['text'].encode('utf-8')).hexdigest()})\n",
        "        continue\n",
        "    for entity in entities['denotations']:\n",
        "        other_ids = [id for id in entity['id'] if not id.startswith(\"BERN\")]\n",
        "        entity_type = entity['obj']\n",
        "        entity_name = entities['text'][entity['span']['begin']:entity['span']['end']]\n",
        "        try:\n",
        "            entity_id = [id for id in entity['id'] if id.startswith(\"BERN\")][0]\n",
        "        except IndexError:\n",
        "            entity_id = entity_name\n",
        "        e.append({'entity_id': entity_id, 'other_ids': other_ids, 'entity_type': entity_type, 'entity': entity_name})\n",
        "    parsed_entities.append({'entities': e, 'text': entities['text'], 'text_sha256': hashlib.sha256(entities['text'].encode('utf-8')).hexdigest()})\n",
        "\n",
        "# Printing the parsed entities for demonstration\n",
        "for parsed_entity in parsed_entities:\n",
        "    print(parsed_entity)\n"
      ]
    },
    {
      "cell_type": "code",
      "execution_count": null,
      "metadata": {
        "id": "af2uQfSjxIe1"
      },
      "outputs": [],
      "source": [
        "parsed_entities=[\n",
        "    {'text': 'Many people with skin diseases such as chronic wounds, non-healing and diabetic ulcers need reconstruction and regeneration of their skin.', 'text_sha256': '95be1713dbb23e86525959e49ea5a196b49f3bbc1ce8c6cbfa373f176c9d39ae'},\n",
        "{'text': 'In addition, the medical industry also needed a method of skin rejuvenation and reconstruction for cosmetic purposes, even for healthy people.', 'text_sha256': '3424add78e6e71cf20906f1fc0bd050ace5cd3d9f71a430c2f8535dd21354f66'},\n",
        "{'text': 'Reconstructive medicine used the method to deliver pluripotent stem cells to the 33 years after the introduction of bone marrow stem cells, fat-derived stem cells have become an excellent source for cell therapy.', 'text_sha256': 'b0c0e0caafe6a371790c385375c5ab9a5edfd695d152ccb5137afdf545e190ab'},\n",
        "{'text': 'In 1961, two Canadian scientists first introduced stem cells.', 'text_sha256': 'c3ca44e1a8c1fde494adee19104303a349bec064702c50f7dd4283c02aae65f5'},\n",
        "{'text': 'These cells, later found to be hematopoietic stem cells, have been used successfully to treat leukemia and some severe autoimmune diseases called bone marrow transplants.', 'text_sha256': '9785b08aa0fecd2e0a28784a7f550f08201c5fafed3e2fd72cb3e3c4c0faf19a'},\n",
        "{'text': 'In 1968, another stem cell was introduced into the bone marrow, which has been shown to be effective due to its high ability to regulate immunity in many diseases, including skin, bone, joint diseases, heart, brain, nerves, and kidney.', 'text_sha256': 'a5a27a6b13d60968783b2e161c2f06b631e4f2efb9c9b03397c7835840d13b89'},\n",
        "{'text': 'Nevertheless, it took scientists another 33 years to discover that human adipose tissue also has a stem cell, similar to bone marrow stem cells.', 'text_sha256': '028cec8f7cf00063675b02869b6c424d923e2f0661c30d9331c4942007b01c21'},\n",
        "{'text': 'Each gram of human fat has 100 to 500 times more stem cells than bone marrow and is easier to obtain.', 'text_sha256': '99c395a72666cd8d0423c79e1d5f42daeda06b03d80e76a36ba991024c84408c'},\n",
        "{'text': 'Although there are differences in bone marrow stem cells and fat, these advantages have attracted the attention of many researchers.', 'text_sha256': 'a2c71a4c77b7e9ac0c40a8c5fce3b144f2a38c7c24864c3f84874d4dc47c5d9a'},\n",
        "{'text': 'Mesenchymal stem cells are the most interesting because when they get placed in the right environment and are coupled with the proper growth factors, they can choose a pathway to differentiate into that targeted tissue.', 'text_sha256': '14158336512ad4f512d796f95bed14dab9902aa06c9b2d352216bb51fb7e5df8'},\n",
        "{'text': 'Also, they are very accessible, inexpensive, easy to extract, and reproducible.', 'text_sha256': 'd4dbd1fb9e7e5285e6546710fe83bf7ea44a809fe45c245e25e634c5d33f8653'},\n",
        "{'text': 'The sources of these mesenchymal stem cells are bone marrow, bone, connective tissues, fats, etc.', 'text_sha256': 'a41788937f1559e1784948e625706fb4b42ca9e5f78de34184722993878af620'},\n",
        "{'text': 'The best reservoir that has recently been discovered for mesenchymal cells is fat.', 'text_sha256': '0d4c5e19ee53e9318756e74cf2aeb8d9300d44f0ea8d6a7a01e62ed5b1d908f0'},\n",
        "{'text': 'Fats are made out of fibrous, collagen fibers, and fibroblasts.', 'text_sha256': '61cd48281cbbbe54f962eac9251efd58747bbd63e4f53d148a1e9fb38584b334'},\n",
        "{'text': 'On one hand, by injecting collagenase enzymes into the fat, all the collagen fibers and fibroblasts would slip away, and the pure mesenchymal stem cells would be available.', 'text_sha256': '50d0f4e2ae5e02d9618325ae8cc864b9208eaf9e34c3ac944ba073e058ea1633'},\n",
        "{'text': 'On the other hand, In the engineered stem cell vascular fraction (SVF), which is a pellet containing mesenchymal cells, growth factors, inflammatory cells like macrophage-monocyte and fibroblasts, the mesenchymal cells get separated from all the other components by the centrifugation process.', 'text_sha256': '51c4910f2b4f40b8dd2a79181a734844cfc89d16e67ef6badf378470e73cf3de'},\n",
        "{'text': 'Placing the mesenchymal stem cells into the targeted environment and providing the proper growth factors can produce fibroblasts and collagen to reconstruct the skin.', 'text_sha256': '23b6860ad70b95fc3013fbd75eb2165bba1a0ccab1bb166c9bc71e41be803871'},\n",
        "{'text': 'As mentioned above, the stem cell environment is critical, and there is a possibility of stem cell movement due to the blood flow and paracrine, which the stem cell would secrete and affect its environment.', 'text_sha256': '43b81e871c1f1a66d0646735cc81d330c1ab19a013ba58cd3f3281f3246b1f07'},\n",
        "{'text': 'Therefore, the matrix that keeps the stem cell in its place from getting flushed away by the blood flow and affecting its environment, known as the scaffold, was discovered.', 'text_sha256': '7cff074d2e8a691cf68d11d134c4f4eb04153c0034338700f784236e969a3952'},\n",
        "{'text': 'The scaffold has to have specific characteristics that would avoid a foreign body reaction; It could not be antigenic ,allergic, or infectious.', 'text_sha256': '3b7b8620ed5944b531c7700750151aed83c98aecf3bac9bf454198dc36bf0f7b'},\n",
        "{'text': 'Additionally, it needed to be accessible and cheap to produce.', 'text_sha256': '3cc8fc706ee9b1439fb08ac70c6b895ee0779a02642d0bf123acabdc1658282c'},\n",
        "{'text': \"The newest method utilized has been using alginate scaffolds, containing the mesenchymal cells and the essential growth factors, into the targeted cell resulting in stimulating the CD44 receptors on the skin's fibroblasts, causing a rush of collagen production.\", 'text_sha256': 'b38bda76c13cd4a324995aa3e69f225c22991c21d14ca234b04927d75563e681'},\n",
        "{'text': 'As we learned in our lectures, the green fluorescent protein bone marrow was implanted into non-green fluorescent protein mice resulting from HCT, (hematopoietic cell transplantation) improved the animal survival in a mouse model, which was surprising.', 'text_sha256': 'b9905fc5a29947f9f2b128858bb4773f599f9aacc17e9253b9b755b1891f6007'},\n",
        "{'text': 'In this paper, the tissue regeneration of skin and the probability of hair growth from stem cells are being investigated.', 'text_sha256': 'f73782c49357a03073a9320fab4c957858e624cd04c18034038eb4a3031ac9bb'},\n",
        "{'text': 'Over time, The biological skin replacement has dramatically improved from individual application of skin cells to cells and scaffold combinations for treatments, healing, and acute and chronic skin wounds.', 'text_sha256': 'c312653b440c5fa471cbb7593bd437e436761221b79de9d1257a7ff19f6afff0'},\n",
        "{'text': 'Permanent skin substitutes with cellular engineering combination has shown to have crucial wound closure of more than 90% of the total body surface region in burns [7].', 'text_sha256': 'a864077dd9edf134a7d4cab957d410ef97b32e0020aa2fc6c90fddbe1d00272b'},\n",
        "{'text': 'As an advantage the morbidity and mortality of acute and chronic wounds have brought lower; However, yet they have been unable to eliminate all skin mechanisms and functions [7].', 'text_sha256': '226bdde36a8bba656d943f5c78f441535ccf382ffc8b579db4874b25597c29d0'},\n",
        "{'text': 'Therefore, Hypopigmentation, the absence of lymphatic networks and stable vascular, hair follicles, sweat glands, adipose, and inadequate innervation are some of the missing elements of cellular or biological skin replacements equation [7].', 'text_sha256': 'b131d19b1511a27c6707c7bdda75f87c5d5d0e51a09ff50a949d5509d1c8d4a2'},\n",
        "{'text': 'The complete restoration of the anatomy and physiology of uninjured skin is highly dependent on the modulation of biological pathways of embryonic and fetal formation.', 'text_sha256': '89d412d0aa5c1ef5b7e39ffbe53997f256583e668e167f9e7bff52754c1eaba6'},\n",
        "{'text': 'developmental biology into possible biological skin replacements can have a full recovery of anatomy and physiology, along with eliminating morbidity from skin wounds In recent years, improvements in early wound excision, respiratory assistance, fluid revival, treatment of inhalation damage, enhanced immune function, infection prevention, integration of aerobic activity during healing, and advancement of anti-scarring techniques have all been accomplished in burn care.', 'text_sha256': 'b3813216374fb4ba0169d73ea0706708f7885998f6152f67f82ec4a4f5f2f91f'},\n",
        "{'text': 'These advancements also resulted in substantial decreases in death, hospitalization, and long-term morbidity.', 'text_sha256': '4356f0a81812d5e028f56ecebb41ea5efcb776ae840a4c6b67de14a456a1174e'},\n",
        "{'text': 'Many strategies for healing deep partial and full-thickness burns have been developed by researchers, including the placement of the epidermal barrier through autologous or allogeneic transplantation.', 'text_sha256': '707dd6da263e663d9ac7d5657cf808f864904c42501ddf9f9cb7280a70229976'},\n",
        "{'text': 'Autologous cells can permanently reside on the wound to have definitive wound closure.', 'text_sha256': '010afc176b1bfd8be2dea31503c53b185c45dff6c668d8ae0ee49c8d1af5bbdd'},\n",
        "{'text': 'In contrast, allogeneic cells can stay on the wound for a few days or weeks; However, the combination of the allogeneic fibroblast with biodegradable scaffolds would provide extracellular matrix and growth factors components would facilitates faster wound closure by motivating autologous healing, but it does not last long maybe for only a few days to weeks.', 'text_sha256': '0139fe4a6ab7b550a466f51d1699f61239685e836b74bc87713b825b06c599d9'},\n",
        "{'text': 'Although these methods do tend to decrease mortality in major burns, after transplantation, they neglect hair follicles and glands.', 'text_sha256': '7a5746acd82a291f691a520b28f98ff131217c2aac56eb78f2b2290ab067ccde'},\n",
        "{'text': 'Scientists use techniques which can damage cells such as multi-layering of a variety of cells and the transition of cell-matrix droplets onto a substrate known as \"ink-jet printing,\" by amplifying a laser pulse.', 'text_sha256': 'f7126a142a7bb7ddc4530773ee50c5c453fc4c2c376dab93ce281ba0956b7e22'},\n",
        "{'text': 'The brief exposures to high pressure, temperature, or biochemical toxins would damage the cells [7].', 'text_sha256': 'eaeaadcde60d27b46b7429de0e21deaa53a89f37044f8dc7d927234edb9f7bad'},\n",
        "{'text': 'autologous engineered skin substitutes.', 'text_sha256': '8fb92691db51d527740cbd0e37266048ebbbbbdce8815defe98d52b4aa82d058'},\n",
        "{'text': 'Regenerative medicine is meant to restore the functionality of a harmed,   malfunctioning, or absent tissue.', 'text_sha256': '252852d6d5d13fb6e1325406b0f6923403a5bcd729e685dafdfc662d2637eb2a'},\n",
        "{'text': 'In regenerative medicine, there are three primary methods.', 'text_sha256': '05819b82607e2021c8ffc804b524f2a0fff3385425d6e32b0f37d302627a3b70'},\n",
        "{'text': 'Cell-based therapies are the first approach executed by the cells that are delivered to either directly regenerate a tissue or through the paracrine functions.', 'text_sha256': '8f48ec7f62b61d191d6d02252f2e9a6bc00698e589d2b48b0022f6b28088befc'},\n",
        "{'text': 'The second method, the material-based methods focuses on biodegradable materials that are often fabricated with cellular functions.', 'text_sha256': 'd62414f38d3f59b55e7c749e9fb683915c37f246c0a0182abe6e2085ed1dc486'},\n",
        "{'text': 'The most important method, that is the main focus of this paper, is tissue engineering: combining the use of cells and a biodegradable scaffold to construct a tissue [4].', 'text_sha256': '8d27bc918be4d8e1333083754c629628eb80a6316b92810acfb94117370b280d'},\n",
        "{'text': 'At the base of hair follicle cells ADSCs (adipose tissue-related stem cells) are mesenchymal stem cells found in subcutaneous tissue.', 'text_sha256': '7968a81b8f6a796d157d5a045f9b4bc51fca3e9d9004aec1e66bab81666277d4'},\n",
        "{'text': 'Controlling skin regeneration, aging, and structural deficits are significant roles of these cells [8].', 'text_sha256': 'cfacb0de086c5fccf399edbfe922fefc4cb0ef65c24d0835b565f4c30efc68a2'},\n",
        "{'text': 'Proliferating and dividing into skin cells to replace damaged or dead cells are known to be done by ADSCs.', 'text_sha256': 'eae84a46995889878cf1938fb3027fc57f6aa2b8438dc4af8e0626a150f74402'},\n",
        "{'text': 'Additionally, they also stimulate cell replication and the healing process through an autocrine and paracrine pathway by stimulating CD44 fibroblast receptors.', 'text_sha256': '6d1b5f57b7c211fb642db9b0e21d6e5bf9f61bff92f78e0683c128f045c50569'},\n",
        "{'text': 'During wound recovery, ADSCs have a high capacity to migrate to wounded sites and are recruited quickly, in addition to their division into dermal fibroblasts (DF), endothelial cells, and keratinocytes.', 'text_sha256': 'da18fbf792720a037844102d4d6a16c16f628e0b5c38b8db8c948c4670fa3200'},\n",
        "{'text': 'Adipose-derived stem cells are primarily more proliferative and have immunoregulatory properties, which means they are isolated in a less disruptive and more reproducible manner with the capability of inactivating T cells [8].', 'text_sha256': '031e9cbf2f2583efa10c22db84433800b4d955ee17a9a1f8dac6c20001ea8588'},\n",
        "{'text': 'Compared to bone marrow, ADSCs have higher multipotency, which is actually needed more for ectodermal and endodermal tissue repair.', 'text_sha256': 'c4356d972388f0120f31570a98fcdfb46a1820d0d138d268816603e5b3aac164'},\n",
        "{'text': 'ADSCs will secrete a diverse secretome, resulting in increased cell proliferation and differentiation, migration, and enhanced cellular and microenvironment safety.', 'text_sha256': '1cc2a47c1aa5733bf62513936f17bc6d4e446d045008a120bb0f99a93cc2385d'},\n",
        "{'text': 'A set of trophic factors that secretome correlates to cytokines, growth factors, and chemokines that enable ADSCs to function as paracrine tools rather than cell ADSCs were also discovered in subcutaneous tissue.', 'text_sha256': '41a24c5819d69ef35bf9650bc5c3892d2668b06249ca4e7d2c8afb762534c9bf'},\n",
        "{'text': 'This involvement plays an essential role in skin restoration and regeneration by retaining and rejuvenating skin tissue structure (even it can be as a physiological reaction to local injury) by seeding younger cells to the epidermis, which they later differentiate into dermal fibroblasts, keratinocytes, and other The tendency of different epithelial cells to secrete growth factors and extracellular matrix (ECM) proteins maintains a differentiation of rejuvenation and regeneration in the ADSC microenvironment.', 'text_sha256': '8efc3f9874fb8a5785e26c2db7bc0c33c68e728c74a4e902154349766fac46ce'},\n",
        "{'text': 'Furthermore, the primary sources of extracellular matrix (ECM) are ADSCs and DFs proteins involved in skin structure and functionality.', 'text_sha256': '6ea83e4f6f61370bacd568f4937a18a6f22a09b0ac242dcda65e9f9ab5871b6b'},\n",
        "{'text': 'Extracellular vesicles are lipid bilayer vesicles that include several RNA organisms (including mRNAs and miRNAs), soluble (cytosolic) proteins, and transmembrane proteins in the proper and functional orientation [8].', 'text_sha256': 'b419be85e36b6dfcaea9fc203f62b7d6a5ea2d6b5d4748456f33e74518ed2eb5'},\n",
        "{'text': 'EVs are involved in various mechanisms, membrane protein, lipid recycling, immune regulation, apoptosis, angiogenesis, cellular proliferation, differentiation, and tissue engineering to modulate cell recruitment.', 'text_sha256': '659f82f4c60d78ff4c268141fe8baa20faa6a3f18d5190910a391133ab3f4a94'},\n",
        "{'text': 'Exosomes, which are emitted through the fusion of the multivesicular structure with both microvesicles and the cell membrane that have been released directly from the cell membrane, are examples of extracellular vesicles (EV) [4].', 'text_sha256': 'b4232482009734fa050ce23a6f943fcc1fbf0c14d7b33dad6024f4d840c194d6'},\n",
        "{'text': 'The many processes in which EVs are active and the elasticity in which they may affect the activity of recipient cells allows EV, a fascinating subject, to be utilized for both therapeutic and diagnostic purposes.', 'text_sha256': '37011fab65168b949e30d50e790c83509018c12f08db33276b8578040397b90b'},\n",
        "{'text': 'EVs are implicated in tissue and organ injury reconstruction and can clarify any paracrine symptoms seen in stem cell-based therapeutic approaches.', 'text_sha256': '0eacef6843720499a02bc7df7a6c18d6d74c07c4a4a525f5c34a91b193ea8ef4'},\n",
        "{'text': 'MSCs (multipotent mesenchymal stem cells) are discovered as residual stem cells in majority adult organs, especially adipose tissue.', 'text_sha256': '596a0a6409088cec66898737dc1ef86639c528d49c101db650d84629bea30b23'},\n",
        "{'text': 'These cells exhibit standard mesenchymal cell properties in vitro and are segregated from the mesenchymal vascular fraction.', 'text_sha256': '35eebfbed314ecbc231c5fd21c1e983c8639dfd2daa3a209fe6899f2d1afad72'},\n",
        "{'text': 'Extracellular vesicles have a paracrine impact on cell morphology, migration, proliferation, and differentiation.', 'text_sha256': 'a6780f3e9a19d5e98c5780430515aa6e6292e551b2a7a1cbf97553a2d416283e'},\n",
        "{'text': 'These paracrine results of EV can be helpful in regenerative medicine.', 'text_sha256': '7b6cf3da01fab34c273634c2ed46ddf107a9aac40f3aea8dd47b00122f02e98d'},\n",
        "{'text': 'EV may be used in regenerative therapy in various ways, like injection, combining with hydrogels, and covering scaffolds with EV utilizing fibrous tissue hydrogel.', 'text_sha256': '00e182fc2a8ab26ae4aff43a530847dca0a3c3198496bb23ace2d968947f9f98'},\n",
        "{'text': 'Intercellular communications are essential roles of EVs through secretome that engage in.', 'text_sha256': '020c33647684a1f52b8201ba14c6134c983318b0bce099fe3002149f1e79fda3'},\n",
        "{'text': 'Thus, their content and functionality can vary based on the conditions of the vesicular generating cells.', 'text_sha256': '464608b58f65d3a5eca455f5948a30b6d131a0b85dae1a331633c7584aac507d'},\n",
        "{'text': 'Changes in EV content in response to conditions specific to growth would play a crucial role in these cases by affecting tissue regeneration and wound repair by identifying new pathways into Epidermolysis bullosa is a genodermatosis, a hereditary skin disease that usually mutations of genes encoding extracellular matrix proteins (collagen) are the primary cause.', 'text_sha256': '6bc42056308ecd2168a0bc29496b40e166832a09bb07efe85f9de69b330fe4ba'},\n",
        "{'text': 'Severe and prolonged skin blistering with extreme and potentially fatal complications are examples of this disorder.', 'text_sha256': '6c399b612da5b7ec4ed737829f7fc405b25ec3ba4281643fd6243d662cd561b3'},\n",
        "{'text': 'There is no treatment for epidermolysis bullosa at the moment.', 'text_sha256': '44b825cc6a687aa5a22c503995c5609014493ebefdebdaf3f61ae815fd674ecd'},\n",
        "{'text': 'However, enabling autologous therapies developed from a patient-specific renewable community of cells count as advantages in gene therapy and editing methods, along with the development of pluripotent stem cells from patients with epidermolysis Another example of skin disease is diabetic foot ulcers, known as (DFU), which is a significant difficulty that often results in infection or even death.', 'text_sha256': 'c809338ff4eecce1e5831fec6cb2346fc98c85befcd29b09ec4cffd2002173a5'},\n",
        "{'text': 'The mesenchymal stem cell-based therapeutic method has shown effectiveness in wound treatment, presenting a theoretically systematic alternative by treating various microaerobic Base Material and The Interaction Damaged tissue repair entails the existence of cells capable of repairing the damaged tissue and the presence of a microenvironment that facilitates adequate tissue regeneration.', 'text_sha256': 'c809024aa7cf38135ee44ba4c6551890759bd1ce691778bb12ae99cb3bf9c809'},\n",
        "{'text': 'Furthermore, cells must be directed to form a structure of the suitable size, shape, and in certain situations, structural support.', 'text_sha256': 'dba170f904e8761a8a62fbeb41a6cf6f23a149a8b336d989d66d746fdc884b80'},\n",
        "{'text': 'In damaged tissue, the extracellular metric is often damaged, functionally disabled, or missing, while In healthy tissue, the ECM guides and Scaffolds are structures that include the conditions for cell retention and tissue regeneration and are used to solve this problem.', 'text_sha256': '64e76a6b4edec76b32a1c8516176f54c5f286f83a48fe903ad5f3625e395fd6f'},\n",
        "{'text': 'Scaffolds may be either natural (decellularized ECM or enhanced elastin - or collagen gels) or synthetic (synthetic hydrogels or porous polymer scaffolds) [4].', 'text_sha256': 'a19fb3bf7aebb6a71b9b57786d6ecc8123c94e6b8281c6c2c6cc920026c83890'},\n",
        "{'text': 'To enable suitable cell populations, artificial porous scaffolds must meet precise criteria.', 'text_sha256': '875216d51e6aad7527563115d0d495a316b14b92261569b121d86c923ee936f7'},\n",
        "{'text': 'A synthetic scaffold, ideally, offers biodegradable, and is gradually substituted by autologous ECM.', 'text_sha256': 'a3e485f6c727230814151e5889df52594115dc7e644f5e90ecf0f9f0c2820efc'},\n",
        "{'text': 'By providing a porous structure required, cells would be able to move or they can be seeded in the scaffold to provide an environment with a sufficient supply of nutrients [4].', 'text_sha256': '9d98bd7dfb8df230f236e9423f1259fe0ca65c7f48e77f1d0b3f50995af2e480'},\n",
        "{'text': 'Cellular components are removed from the tissue using a mixture of enzymatic, physical, and chemical therapies to reduce the possibility of immune responses against antigens and the spread of pathogens in these scaffolds.', 'text_sha256': '834c2b2a36b95f5dc66679f7878b153e0237e36eba39577782dc02b3a1fe355d'},\n",
        "{'text': 'Electrospinning is the most widely utilized technique for creating porous synthetic scaffolds since it allows for the development of structures of complicated geometry variations of fiber forms in both mixed and layered configurations.', 'text_sha256': '121db6b4b3457715f000c989e22aec5b4b5c04955e3726f9c28f1ab91c421930'},\n",
        "{'text': 'Polycaprolactone (PCL), polyglycolic acid (PGA), polyhydroxyalkanoate (PHA), and polylactic acid (PLA) are biodegradable polymers used in electrospinning.', 'text_sha256': 'd15ee5ffbda675bba81a95b0d1c76c6abd7406e6210a6b1fe3e7bc62ed78eb20'},\n",
        "{'text': 'Combining fiber types in complex patterns, scaffold degradability, durability, and biological activity can be modulated.', 'text_sha256': 'd58f64b34002f3e3412e9f149780cf0d5b2bffe365c37389a8e5ecb8ce1a86df'},\n",
        "{'text': 'MSC migration, proliferation, and osteogenic differentiation are improved by coating the scaffold with collagen peptide as an example.', 'text_sha256': 'd980a6af0e9d3a4484ce332f2800783c1a7b7301df5142e2cf600c57738b4344'},\n",
        "{'text': 'Scaffolds may also be engineered to release proteins, peptides, or cytokines through degradation or coating fibers with a biodegradable material like fibrin or gelatin containing a combination of these bioactive molecules.', 'text_sha256': '5bf72a65a50ac314bd12fa554cf8fced84a15f2997f2ee83d8ae84ff8e864714'},\n",
        "{'text': 'Also, because of their heavily hydrated structure, low toxicity, and proximity to the extracellular matrix, hydrogels are the most commonly used bio-inks in tissue engineering to build scaffolds.', 'text_sha256': '0d5d7bce7206e13032d0a92447061f6cb914ca816ae5164fff7cc7ae1d0862cc'},\n",
        "{'text': 'As a result, bio-ink built with gelatin and natural polymers is compatible with various soft tissue cell types and can be combined with biological molecules such as proteins, growth factors, and     Many people suffering from skin disorders such as chronic wounds, non-healing ulcers, and diabetic ulcers need skin repair and regeneration.', 'text_sha256': 'f927f3608fe0be3b3fad54720b8b364a28be8a452c0b076e8132f26b615eedee'},\n",
        "{'text': 'Aside from the diseases listed above, the industry needed a skin rejuvenation system and regeneration for cosmetic purposes.', 'text_sha256': 'eb86f6f003005424184ed01388dbd71346362cc34061fa9f759d78d72defb74d'},\n",
        "{'text': 'The procedure used to deliver pluripotent stem cells to the desired tissue was known as reconstructive medicine.', 'text_sha256': '565b08df3338c281e90b4250aa1a49af8a62266a63af81ff76a2cf9ef8550f17'},\n",
        "{'text': 'Mesenchymal stem cells are the most fascinating since, when put in the correct setting and stimulated with the proper growth factors, they could choose a pathway to differentiate into the desired tissue.', 'text_sha256': '08440e55b47bb9991b3bc21728f01aa8b30a91c5640ffb0297dec41c426a56d0'},\n",
        "{'text': 'They are also very available, inexpensive, simple to extract, and reproducible.', 'text_sha256': '293f7e0b57ad326235531d57de1e0a1091db445396dd3955c48ced1b426feb0a'},\n",
        "{'text': 'These mesenchymal stem cells are derived from bone marrow, bone, connective tissues, fats, and other tissues.', 'text_sha256': '81793a161e6547790e7df493bf0d38c259acb239d270e419dd20b646c3157807'},\n",
        "{'text': 'Fat is the ideal reservoir for mesenchymal cells that have recently been identified.', 'text_sha256': '19c07c64ccafeb2531d7eae3f1806070ec5a6b336e8c9397c3653bb7ecae2f82'},\n",
        "{'text': 'Fibrous, collagen fibers and fibroblasts On one side, by injecting collagenase enzymes into the fat, all of the collagen fibers and fibroblasts can be removed, leaving just the pure mesenchymal stem cells.', 'text_sha256': '31a6ae4fd46177618fe67811fdf6d56060909bac378568cab98d6ec696f948dd'},\n",
        "{'text': 'In the engineered stem cell vascular fraction (SVF), a pellet comprising mesenchymal cells, growth factors, inflammatory cells such as macrophage-monocyte, and fibroblasts, the mesenchymal cells are segregated from the other components through centrifugation.', 'text_sha256': '9164dc8d58cd90285401d302a03e671dd668150307ae27f85345bbd411713c2c'},\n",
        "{'text': 'Placing mesenchymal stem cells in the target environment and supplying the required growth factors can result in the formation of fibroblasts, the production of collagen, and the reconstruction of the skin.', 'text_sha256': '6b9018fea8ca9fd50254e7e499d64c3ac115704f29bacbc566fb093fcf0284e1'},\n",
        "{'text': 'As previously stated, the stem cell condition is essential, as there is a risk of movement of the stem cell due to blood circulation and paracrine, which the stem cell will secrete and influence its environment.', 'text_sha256': '6f41867f3f6f6b038edb081b98fc2f9b03a6cb480d16fc3320d924ba44a7014f'},\n",
        "{'text': 'As a result, the scaffold is the structure that prevents the stem cell from being flushed away by the blood supply and disrupting the environment.', 'text_sha256': 'fd00c31d43d1623e58642e38511ba129e63f327aa2a41b968fc948decdad4a51'},\n",
        "{'text': 'The scaffold must have unique properties that prevent foreign body reactions, are not antigenic or allergic, and   do not induce infection.', 'text_sha256': 'ae7ea0e878ea166d17ab03dfd80fb4ba4f8d0a6c44e5d0a29d4e3f1cd3b404a8'},\n",
        "{'text': 'It must also be affordable and readily available.', 'text_sha256': '0e37067b910efd4e7a6ea4396f75d08751ea71114770898cce118b8e9eed3be9'},\n",
        "{'text': 'Alginate scaffolds have been used in the most recent process.', 'text_sha256': '0ca88dcc99aab9f89ed2403003aa1af1469b1e9f1ca34a6e18eca368414e809b'},\n",
        "{'text': \"The scaffold containing the mesenchymal and critical growth factors into the desired cell will, for example, activate the CD44 receptors on the skin's fibroblasts, increasing collagen output.\", 'text_sha256': 'f3d6fc91d52f395e639325b188564d7f20cb41edf31cc080ff1d4bff927976dc'},\n",
        "]"
      ]
    },
    {
      "cell_type": "code",
      "execution_count": null,
      "metadata": {
        "id": "MpSj2D4BB3MO",
        "colab": {
          "base_uri": "https://localhost:8080/"
        },
        "outputId": "c925341e-0b16-46bc-b670-23d7eeef05db"
      },
      "outputs": [
        {
          "output_type": "stream",
          "name": "stdout",
          "text": [
            "Collecting neo4j\n",
            "  Using cached neo4j-5.15.0.tar.gz (196 kB)\n",
            "  Installing build dependencies ... \u001b[?25l\u001b[?25hdone\n",
            "  Getting requirements to build wheel ... \u001b[?25l\u001b[?25hdone\n",
            "  Installing backend dependencies ... \u001b[?25l\u001b[?25hdone\n",
            "  Preparing metadata (pyproject.toml) ... \u001b[?25l\u001b[?25hdone\n",
            "Requirement already satisfied: pytz in /usr/local/lib/python3.10/dist-packages (from neo4j) (2023.3.post1)\n",
            "Building wheels for collected packages: neo4j\n",
            "  Building wheel for neo4j (pyproject.toml) ... \u001b[?25l\u001b[?25hdone\n",
            "  Created wheel for neo4j: filename=neo4j-5.15.0-py3-none-any.whl size=272484 sha256=ce6173f02e9c724359f2c3c9218dccc0fb60d4ba99565e4f69260cfa55ada59a\n",
            "  Stored in directory: /root/.cache/pip/wheels/d5/08/10/6371dbdeec2efd7782f559b21c32bb6b4192ae0216ec5e39c5\n",
            "Successfully built neo4j\n",
            "Installing collected packages: neo4j\n",
            "Successfully installed neo4j-5.15.0\n"
          ]
        }
      ],
      "source": [
        "pip install neo4j"
      ]
    },
    {
      "cell_type": "code",
      "execution_count": null,
      "metadata": {
        "id": "mmV_RMPBF4z6"
      },
      "outputs": [],
      "source": [
        "from neo4j import GraphDatabase\n",
        "import pandas as pd\n",
        "\n",
        "host = 'bolt://18.234.240.27:7687'\n",
        "user = 'neo4j'\n",
        "password = 'catch-dockings-sight'\n",
        "driver = GraphDatabase.driver(host,auth=(user, password))\n",
        "\n",
        "def neo4j_query(query, params=None):\n",
        "    with driver.session() as session:\n",
        "        result = session.run(query, params)\n",
        "        return pd.DataFrame([r.values() for r in result], columns=result.keys())"
      ]
    },
    {
      "cell_type": "code",
      "source": [
        "author = article_txt.split(\"\\n\")[0]\n",
        "title = \" \".join(article_txt.split(\"\\n\")[2:4])\n",
        "\n",
        "neo4j_query(\"\"\"\n",
        "MERGE (a:Author{name:$author})\n",
        "MERGE (b:Article{title:$title})\n",
        "MERGE (a)-[:WROTE]->(b)\n",
        "\"\"\", {'title':title, 'author':author})"
      ],
      "metadata": {
        "colab": {
          "base_uri": "https://localhost:8080/",
          "height": 53
        },
        "id": "w7o9mYllveQC",
        "outputId": "91c6e1b9-aa15-48a9-e0db-5b8ec64f6a90"
      },
      "execution_count": null,
      "outputs": [
        {
          "output_type": "execute_result",
          "data": {
            "text/plain": [
              "Empty DataFrame\n",
              "Columns: []\n",
              "Index: []"
            ],
            "text/html": [
              "\n",
              "  <div id=\"df-05608980-e6ca-4b79-963d-15533ef8e9fd\" class=\"colab-df-container\">\n",
              "    <div>\n",
              "<style scoped>\n",
              "    .dataframe tbody tr th:only-of-type {\n",
              "        vertical-align: middle;\n",
              "    }\n",
              "\n",
              "    .dataframe tbody tr th {\n",
              "        vertical-align: top;\n",
              "    }\n",
              "\n",
              "    .dataframe thead th {\n",
              "        text-align: right;\n",
              "    }\n",
              "</style>\n",
              "<table border=\"1\" class=\"dataframe\">\n",
              "  <thead>\n",
              "    <tr style=\"text-align: right;\">\n",
              "      <th></th>\n",
              "    </tr>\n",
              "  </thead>\n",
              "  <tbody>\n",
              "  </tbody>\n",
              "</table>\n",
              "</div>\n",
              "    <div class=\"colab-df-buttons\">\n",
              "\n",
              "  <div class=\"colab-df-container\">\n",
              "    <button class=\"colab-df-convert\" onclick=\"convertToInteractive('df-05608980-e6ca-4b79-963d-15533ef8e9fd')\"\n",
              "            title=\"Convert this dataframe to an interactive table.\"\n",
              "            style=\"display:none;\">\n",
              "\n",
              "  <svg xmlns=\"http://www.w3.org/2000/svg\" height=\"24px\" viewBox=\"0 -960 960 960\">\n",
              "    <path d=\"M120-120v-720h720v720H120Zm60-500h600v-160H180v160Zm220 220h160v-160H400v160Zm0 220h160v-160H400v160ZM180-400h160v-160H180v160Zm440 0h160v-160H620v160ZM180-180h160v-160H180v160Zm440 0h160v-160H620v160Z\"/>\n",
              "  </svg>\n",
              "    </button>\n",
              "\n",
              "  <style>\n",
              "    .colab-df-container {\n",
              "      display:flex;\n",
              "      gap: 12px;\n",
              "    }\n",
              "\n",
              "    .colab-df-convert {\n",
              "      background-color: #E8F0FE;\n",
              "      border: none;\n",
              "      border-radius: 50%;\n",
              "      cursor: pointer;\n",
              "      display: none;\n",
              "      fill: #1967D2;\n",
              "      height: 32px;\n",
              "      padding: 0 0 0 0;\n",
              "      width: 32px;\n",
              "    }\n",
              "\n",
              "    .colab-df-convert:hover {\n",
              "      background-color: #E2EBFA;\n",
              "      box-shadow: 0px 1px 2px rgba(60, 64, 67, 0.3), 0px 1px 3px 1px rgba(60, 64, 67, 0.15);\n",
              "      fill: #174EA6;\n",
              "    }\n",
              "\n",
              "    .colab-df-buttons div {\n",
              "      margin-bottom: 4px;\n",
              "    }\n",
              "\n",
              "    [theme=dark] .colab-df-convert {\n",
              "      background-color: #3B4455;\n",
              "      fill: #D2E3FC;\n",
              "    }\n",
              "\n",
              "    [theme=dark] .colab-df-convert:hover {\n",
              "      background-color: #434B5C;\n",
              "      box-shadow: 0px 1px 3px 1px rgba(0, 0, 0, 0.15);\n",
              "      filter: drop-shadow(0px 1px 2px rgba(0, 0, 0, 0.3));\n",
              "      fill: #FFFFFF;\n",
              "    }\n",
              "  </style>\n",
              "\n",
              "    <script>\n",
              "      const buttonEl =\n",
              "        document.querySelector('#df-05608980-e6ca-4b79-963d-15533ef8e9fd button.colab-df-convert');\n",
              "      buttonEl.style.display =\n",
              "        google.colab.kernel.accessAllowed ? 'block' : 'none';\n",
              "\n",
              "      async function convertToInteractive(key) {\n",
              "        const element = document.querySelector('#df-05608980-e6ca-4b79-963d-15533ef8e9fd');\n",
              "        const dataTable =\n",
              "          await google.colab.kernel.invokeFunction('convertToInteractive',\n",
              "                                                    [key], {});\n",
              "        if (!dataTable) return;\n",
              "\n",
              "        const docLinkHtml = 'Like what you see? Visit the ' +\n",
              "          '<a target=\"_blank\" href=https://colab.research.google.com/notebooks/data_table.ipynb>data table notebook</a>'\n",
              "          + ' to learn more about interactive tables.';\n",
              "        element.innerHTML = '';\n",
              "        dataTable['output_type'] = 'display_data';\n",
              "        await google.colab.output.renderOutput(dataTable, element);\n",
              "        const docLink = document.createElement('div');\n",
              "        docLink.innerHTML = docLinkHtml;\n",
              "        element.appendChild(docLink);\n",
              "      }\n",
              "    </script>\n",
              "  </div>\n",
              "\n",
              "    </div>\n",
              "  </div>\n"
            ]
          },
          "metadata": {},
          "execution_count": 19
        }
      ]
    },
    {
      "cell_type": "code",
      "execution_count": null,
      "metadata": {
        "id": "Ef0HI6VEQW1R",
        "colab": {
          "base_uri": "https://localhost:8080/",
          "height": 53
        },
        "outputId": "4fc07c11-2c5e-453f-ec8a-9d57285da2bb"
      },
      "outputs": [
        {
          "output_type": "execute_result",
          "data": {
            "text/plain": [
              "Empty DataFrame\n",
              "Columns: []\n",
              "Index: []"
            ],
            "text/html": [
              "\n",
              "  <div id=\"df-b84b60dc-677f-437e-bc08-dcac0ffd8737\" class=\"colab-df-container\">\n",
              "    <div>\n",
              "<style scoped>\n",
              "    .dataframe tbody tr th:only-of-type {\n",
              "        vertical-align: middle;\n",
              "    }\n",
              "\n",
              "    .dataframe tbody tr th {\n",
              "        vertical-align: top;\n",
              "    }\n",
              "\n",
              "    .dataframe thead th {\n",
              "        text-align: right;\n",
              "    }\n",
              "</style>\n",
              "<table border=\"1\" class=\"dataframe\">\n",
              "  <thead>\n",
              "    <tr style=\"text-align: right;\">\n",
              "      <th></th>\n",
              "    </tr>\n",
              "  </thead>\n",
              "  <tbody>\n",
              "  </tbody>\n",
              "</table>\n",
              "</div>\n",
              "    <div class=\"colab-df-buttons\">\n",
              "\n",
              "  <div class=\"colab-df-container\">\n",
              "    <button class=\"colab-df-convert\" onclick=\"convertToInteractive('df-b84b60dc-677f-437e-bc08-dcac0ffd8737')\"\n",
              "            title=\"Convert this dataframe to an interactive table.\"\n",
              "            style=\"display:none;\">\n",
              "\n",
              "  <svg xmlns=\"http://www.w3.org/2000/svg\" height=\"24px\" viewBox=\"0 -960 960 960\">\n",
              "    <path d=\"M120-120v-720h720v720H120Zm60-500h600v-160H180v160Zm220 220h160v-160H400v160Zm0 220h160v-160H400v160ZM180-400h160v-160H180v160Zm440 0h160v-160H620v160ZM180-180h160v-160H180v160Zm440 0h160v-160H620v160Z\"/>\n",
              "  </svg>\n",
              "    </button>\n",
              "\n",
              "  <style>\n",
              "    .colab-df-container {\n",
              "      display:flex;\n",
              "      gap: 12px;\n",
              "    }\n",
              "\n",
              "    .colab-df-convert {\n",
              "      background-color: #E8F0FE;\n",
              "      border: none;\n",
              "      border-radius: 50%;\n",
              "      cursor: pointer;\n",
              "      display: none;\n",
              "      fill: #1967D2;\n",
              "      height: 32px;\n",
              "      padding: 0 0 0 0;\n",
              "      width: 32px;\n",
              "    }\n",
              "\n",
              "    .colab-df-convert:hover {\n",
              "      background-color: #E2EBFA;\n",
              "      box-shadow: 0px 1px 2px rgba(60, 64, 67, 0.3), 0px 1px 3px 1px rgba(60, 64, 67, 0.15);\n",
              "      fill: #174EA6;\n",
              "    }\n",
              "\n",
              "    .colab-df-buttons div {\n",
              "      margin-bottom: 4px;\n",
              "    }\n",
              "\n",
              "    [theme=dark] .colab-df-convert {\n",
              "      background-color: #3B4455;\n",
              "      fill: #D2E3FC;\n",
              "    }\n",
              "\n",
              "    [theme=dark] .colab-df-convert:hover {\n",
              "      background-color: #434B5C;\n",
              "      box-shadow: 0px 1px 3px 1px rgba(0, 0, 0, 0.15);\n",
              "      filter: drop-shadow(0px 1px 2px rgba(0, 0, 0, 0.3));\n",
              "      fill: #FFFFFF;\n",
              "    }\n",
              "  </style>\n",
              "\n",
              "    <script>\n",
              "      const buttonEl =\n",
              "        document.querySelector('#df-b84b60dc-677f-437e-bc08-dcac0ffd8737 button.colab-df-convert');\n",
              "      buttonEl.style.display =\n",
              "        google.colab.kernel.accessAllowed ? 'block' : 'none';\n",
              "\n",
              "      async function convertToInteractive(key) {\n",
              "        const element = document.querySelector('#df-b84b60dc-677f-437e-bc08-dcac0ffd8737');\n",
              "        const dataTable =\n",
              "          await google.colab.kernel.invokeFunction('convertToInteractive',\n",
              "                                                    [key], {});\n",
              "        if (!dataTable) return;\n",
              "\n",
              "        const docLinkHtml = 'Like what you see? Visit the ' +\n",
              "          '<a target=\"_blank\" href=https://colab.research.google.com/notebooks/data_table.ipynb>data table notebook</a>'\n",
              "          + ' to learn more about interactive tables.';\n",
              "        element.innerHTML = '';\n",
              "        dataTable['output_type'] = 'display_data';\n",
              "        await google.colab.output.renderOutput(dataTable, element);\n",
              "        const docLink = document.createElement('div');\n",
              "        docLink.innerHTML = docLinkHtml;\n",
              "        element.appendChild(docLink);\n",
              "      }\n",
              "    </script>\n",
              "  </div>\n",
              "\n",
              "    </div>\n",
              "  </div>\n"
            ]
          },
          "metadata": {},
          "execution_count": 26
        }
      ],
      "source": [
        "neo4j_query(\"\"\"\n",
        "MATCH (a:Article)\n",
        "UNWIND $data as row\n",
        "MERGE (s:Sentence{id:row.text_sha256})\n",
        "SET s.text = row.text\n",
        "MERGE (a)-[:HAS_SENTENCE]->(s)\n",
        "WITH s, row.entities as entities\n",
        "UNWIND entities as entity\n",
        "MERGE (e:Entity{id:entity.entity_id})\n",
        "ON CREATE SET e.other_ids = entity.other_ids,\n",
        "              e.name = entity.entity,\n",
        "              e.type = entity.entity_type\n",
        "MERGE (s)-[m:MENTIONS]->(e)\n",
        "ON CREATE SET m.count = 1\n",
        "ON MATCH SET m.count = m.count + 1\n",
        "\"\"\", {'data': parsed_entities})"
      ]
    },
    {
      "cell_type": "markdown",
      "source": [
        "#Search Engine"
      ],
      "metadata": {
        "id": "fAp9r_hjqOOE"
      }
    },
    {
      "cell_type": "code",
      "execution_count": null,
      "metadata": {
        "id": "yGE-gnuBYx-Y"
      },
      "outputs": [],
      "source": [
        "neo4j_query(\"\"\"\n",
        "MATCH (e:Entity)<-[:MENTIONS]-(s:Sentence)\n",
        "WHERE e.name = \"autoimmune diseases\"\n",
        "RETURN s.text as result\n",
        "\"\"\")"
      ]
    },
    {
      "cell_type": "markdown",
      "source": [
        "#Co-occurrence analysis"
      ],
      "metadata": {
        "id": "aaA228cnqXF8"
      }
    },
    {
      "cell_type": "code",
      "execution_count": null,
      "metadata": {
        "id": "wITWy7n_iTcY"
      },
      "outputs": [],
      "source": [
        "neo4j_query(\"\"\"\n",
        "MATCH (e1:Entity)<-[:MENTIONS]-()-[:MENTIONS]->(e2:Entity)\n",
        "WHERE id(e1) < id(e2)\n",
        "RETURN e1.name as entity1, e2.name as entity2, count(*) as cooccurrence\n",
        "ORDER BY cooccurrence\n",
        "DESC LIMIT 3\n",
        "\"\"\")"
      ]
    },
    {
      "cell_type": "markdown",
      "metadata": {
        "id": "6xkAqw9foZvF"
      },
      "source": [
        "# Inspect author expertise\n"
      ]
    },
    {
      "cell_type": "code",
      "execution_count": null,
      "metadata": {
        "id": "6Bsa7o8z0z8Q"
      },
      "outputs": [],
      "source": [
        "neo4j_query(\"\"\"\n",
        "MATCH (a:Author)-[:WROTE]->()-[:HAS_SENTENCE]->()-[:MENTIONS]->(e:Entity)\n",
        "RETURN a.name as author, e.name as entity, count(*) as count\n",
        "ORDER BY count DESC\n",
        "LIMIT 5\n",
        "\"\"\")"
      ]
    }
  ],
  "metadata": {
    "colab": {
      "provenance": []
    },
    "kernelspec": {
      "display_name": "Python 3",
      "name": "python3"
    },
    "language_info": {
      "name": "python"
    }
  },
  "nbformat": 4,
  "nbformat_minor": 0
}